{
 "cells": [
  {
   "cell_type": "code",
   "execution_count": 53,
   "metadata": {},
   "outputs": [],
   "source": [
    "import pandas as pd\n",
    "import numpy as np\n",
    "import sklearn\n",
    "from sklearn import metrics"
   ]
  },
  {
   "cell_type": "code",
   "execution_count": 54,
   "metadata": {},
   "outputs": [],
   "source": [
    "data = pd.read_csv('classification.csv')"
   ]
  },
  {
   "cell_type": "code",
   "execution_count": 55,
   "metadata": {},
   "outputs": [
    {
     "data": {
      "text/html": [
       "<div>\n",
       "<style scoped>\n",
       "    .dataframe tbody tr th:only-of-type {\n",
       "        vertical-align: middle;\n",
       "    }\n",
       "\n",
       "    .dataframe tbody tr th {\n",
       "        vertical-align: top;\n",
       "    }\n",
       "\n",
       "    .dataframe thead th {\n",
       "        text-align: right;\n",
       "    }\n",
       "</style>\n",
       "<table border=\"1\" class=\"dataframe\">\n",
       "  <thead>\n",
       "    <tr style=\"text-align: right;\">\n",
       "      <th></th>\n",
       "      <th>true</th>\n",
       "      <th>pred</th>\n",
       "    </tr>\n",
       "  </thead>\n",
       "  <tbody>\n",
       "    <tr>\n",
       "      <th>0</th>\n",
       "      <td>1</td>\n",
       "      <td>0</td>\n",
       "    </tr>\n",
       "    <tr>\n",
       "      <th>1</th>\n",
       "      <td>1</td>\n",
       "      <td>1</td>\n",
       "    </tr>\n",
       "    <tr>\n",
       "      <th>2</th>\n",
       "      <td>1</td>\n",
       "      <td>1</td>\n",
       "    </tr>\n",
       "    <tr>\n",
       "      <th>3</th>\n",
       "      <td>0</td>\n",
       "      <td>0</td>\n",
       "    </tr>\n",
       "    <tr>\n",
       "      <th>4</th>\n",
       "      <td>1</td>\n",
       "      <td>1</td>\n",
       "    </tr>\n",
       "  </tbody>\n",
       "</table>\n",
       "</div>"
      ],
      "text/plain": [
       "   true  pred\n",
       "0     1     0\n",
       "1     1     1\n",
       "2     1     1\n",
       "3     0     0\n",
       "4     1     1"
      ]
     },
     "execution_count": 55,
     "metadata": {},
     "output_type": "execute_result"
    }
   ],
   "source": [
    "data.head()"
   ]
  },
  {
   "cell_type": "code",
   "execution_count": 56,
   "metadata": {},
   "outputs": [
    {
     "data": {
      "text/plain": [
       "(200, 2)"
      ]
     },
     "execution_count": 56,
     "metadata": {},
     "output_type": "execute_result"
    }
   ],
   "source": [
    "data.shape"
   ]
  },
  {
   "cell_type": "code",
   "execution_count": 57,
   "metadata": {},
   "outputs": [],
   "source": [
    "# Подсчитайте величины TP, FP, FN и TN согласно их определениям. Например, \n",
    "# FP — это количество объектов, имеющих класс 0, но отнесенных алгоритмом к классу 1. \n",
    "# Ответ в данном вопросе — четыре числа через пробел."
   ]
  },
  {
   "cell_type": "code",
   "execution_count": 58,
   "metadata": {},
   "outputs": [],
   "source": [
    "TP = data[(data['true']==1) & (data['pred']==1)]['true'].value_counts()\n",
    "FP = data[(data['true']==0) & (data['pred']==1)]['true'].value_counts()\n",
    "FN = data[(data['true']==1) & (data['pred']==0)]['true'].value_counts()\n",
    "TN = data[(data['true']==0) & (data['pred']==0)]['true'].value_counts()"
   ]
  },
  {
   "cell_type": "code",
   "execution_count": 59,
   "metadata": {},
   "outputs": [
    {
     "data": {
      "text/plain": [
       "(1    43\n",
       " Name: true, dtype: int64, 0    34\n",
       " Name: true, dtype: int64, 1    59\n",
       " Name: true, dtype: int64, 0    64\n",
       " Name: true, dtype: int64)"
      ]
     },
     "execution_count": 59,
     "metadata": {},
     "output_type": "execute_result"
    }
   ],
   "source": [
    "TP, FP, FN, TN"
   ]
  },
  {
   "cell_type": "code",
   "execution_count": 60,
   "metadata": {},
   "outputs": [],
   "source": [
    "# Посчитайте основные метрики качества классификатора:\n",
    "\n",
    "# Accuracy (доля верно угаданных) — sklearn.metrics.accuracy_score\n",
    "# Precision (точность) — sklearn.metrics.precision_score\n",
    "# Recall (полнота) — sklearn.metrics.recall_score\n",
    "# F-мера — sklearn.metrics.f1_score\n",
    "# В качестве ответа укажите эти четыре числа через пробел."
   ]
  },
  {
   "cell_type": "code",
   "execution_count": 61,
   "metadata": {},
   "outputs": [],
   "source": [
    "accuracy = sklearn.metrics.accuracy_score"
   ]
  },
  {
   "cell_type": "code",
   "execution_count": 62,
   "metadata": {},
   "outputs": [
    {
     "name": "stdout",
     "output_type": "stream",
     "text": [
      "0.54\n"
     ]
    }
   ],
   "source": [
    "print(np.round(sklearn.metrics.accuracy_score(data['true'], data['pred']),decimals = 2)) "
   ]
  },
  {
   "cell_type": "code",
   "execution_count": 63,
   "metadata": {},
   "outputs": [
    {
     "name": "stdout",
     "output_type": "stream",
     "text": [
      "0.56\n"
     ]
    }
   ],
   "source": [
    "print(np.round(sklearn.metrics.precision_score(data['true'], data['pred']),decimals = 2)) "
   ]
  },
  {
   "cell_type": "code",
   "execution_count": 64,
   "metadata": {},
   "outputs": [
    {
     "name": "stdout",
     "output_type": "stream",
     "text": [
      "0.42\n"
     ]
    }
   ],
   "source": [
    "print(np.round(sklearn.metrics.recall_score(data['true'], data['pred']),decimals = 2)) "
   ]
  },
  {
   "cell_type": "code",
   "execution_count": 65,
   "metadata": {},
   "outputs": [
    {
     "name": "stdout",
     "output_type": "stream",
     "text": [
      "0.48\n"
     ]
    }
   ],
   "source": [
    "print(np.round(sklearn.metrics.f1_score(data['true'], data['pred']),decimals = 2)) "
   ]
  },
  {
   "cell_type": "code",
   "execution_count": 66,
   "metadata": {},
   "outputs": [],
   "source": [
    "a = np.round(sklearn.metrics.accuracy_score(data['true'], data['pred']),decimals = 2)\n",
    "b = np.round(sklearn.metrics.precision_score(data['true'], data['pred']),decimals = 2)\n",
    "c = np.round(sklearn.metrics.recall_score(data['true'], data['pred']),decimals = 2)\n",
    "d = np.round(sklearn.metrics.f1_score(data['true'], data['pred']),decimals = 2)"
   ]
  },
  {
   "cell_type": "code",
   "execution_count": 67,
   "metadata": {},
   "outputs": [],
   "source": [
    "file = \"files_lesson.txt\""
   ]
  },
  {
   "cell_type": "code",
   "execution_count": 68,
   "metadata": {},
   "outputs": [],
   "source": [
    "myfile = open(file, mode = 'a', encoding = 'utf')"
   ]
  },
  {
   "cell_type": "code",
   "execution_count": 69,
   "metadata": {},
   "outputs": [],
   "source": [
    "# Имеется четыре обученных классификатора. В файле scores.csv записаны истинные классы и значения степени \n",
    "# принадлежности положительному классу для каждого классификатора на некоторой выборке:\n",
    "\n",
    "# для логистической регрессии — вероятность положительного класса (колонка score_logreg),\n",
    "# для SVM — отступ от разделяющей поверхности (колонка score_svm),\n",
    "# для метрического алгоритма — взвешенная сумма классов соседей (колонка score_knn),\n",
    "# для решающего дерева — доля положительных объектов в листе (колонка score_tree)."
   ]
  },
  {
   "cell_type": "code",
   "execution_count": 70,
   "metadata": {},
   "outputs": [],
   "source": [
    "data_scores = pd.read_csv('scores.csv')"
   ]
  },
  {
   "cell_type": "code",
   "execution_count": 71,
   "metadata": {},
   "outputs": [
    {
     "data": {
      "text/html": [
       "<div>\n",
       "<style scoped>\n",
       "    .dataframe tbody tr th:only-of-type {\n",
       "        vertical-align: middle;\n",
       "    }\n",
       "\n",
       "    .dataframe tbody tr th {\n",
       "        vertical-align: top;\n",
       "    }\n",
       "\n",
       "    .dataframe thead th {\n",
       "        text-align: right;\n",
       "    }\n",
       "</style>\n",
       "<table border=\"1\" class=\"dataframe\">\n",
       "  <thead>\n",
       "    <tr style=\"text-align: right;\">\n",
       "      <th></th>\n",
       "      <th>true</th>\n",
       "      <th>score_logreg</th>\n",
       "      <th>score_svm</th>\n",
       "      <th>score_knn</th>\n",
       "      <th>score_tree</th>\n",
       "    </tr>\n",
       "  </thead>\n",
       "  <tbody>\n",
       "    <tr>\n",
       "      <th>0</th>\n",
       "      <td>0</td>\n",
       "      <td>0.683832</td>\n",
       "      <td>0.145976</td>\n",
       "      <td>0.787063</td>\n",
       "      <td>0.500000</td>\n",
       "    </tr>\n",
       "    <tr>\n",
       "      <th>1</th>\n",
       "      <td>1</td>\n",
       "      <td>0.801966</td>\n",
       "      <td>0.239511</td>\n",
       "      <td>1.000000</td>\n",
       "      <td>0.833333</td>\n",
       "    </tr>\n",
       "    <tr>\n",
       "      <th>2</th>\n",
       "      <td>0</td>\n",
       "      <td>0.382315</td>\n",
       "      <td>-0.245701</td>\n",
       "      <td>0.000000</td>\n",
       "      <td>0.000000</td>\n",
       "    </tr>\n",
       "    <tr>\n",
       "      <th>3</th>\n",
       "      <td>1</td>\n",
       "      <td>0.506797</td>\n",
       "      <td>-0.137058</td>\n",
       "      <td>0.000000</td>\n",
       "      <td>0.105263</td>\n",
       "    </tr>\n",
       "    <tr>\n",
       "      <th>4</th>\n",
       "      <td>1</td>\n",
       "      <td>0.488781</td>\n",
       "      <td>-0.154148</td>\n",
       "      <td>0.000000</td>\n",
       "      <td>0.105263</td>\n",
       "    </tr>\n",
       "  </tbody>\n",
       "</table>\n",
       "</div>"
      ],
      "text/plain": [
       "   true  score_logreg  score_svm  score_knn  score_tree\n",
       "0     0      0.683832   0.145976   0.787063    0.500000\n",
       "1     1      0.801966   0.239511   1.000000    0.833333\n",
       "2     0      0.382315  -0.245701   0.000000    0.000000\n",
       "3     1      0.506797  -0.137058   0.000000    0.105263\n",
       "4     1      0.488781  -0.154148   0.000000    0.105263"
      ]
     },
     "execution_count": 71,
     "metadata": {},
     "output_type": "execute_result"
    }
   ],
   "source": [
    "data_scores.head()"
   ]
  },
  {
   "cell_type": "code",
   "execution_count": 72,
   "metadata": {},
   "outputs": [],
   "source": [
    "logit = sklearn.metrics.roc_auc_score(data_scores['true'], data_scores['score_logreg'])"
   ]
  },
  {
   "cell_type": "code",
   "execution_count": 73,
   "metadata": {},
   "outputs": [],
   "source": [
    "svm = sklearn.metrics.roc_auc_score(data_scores['true'], data_scores['score_svm'])"
   ]
  },
  {
   "cell_type": "code",
   "execution_count": 74,
   "metadata": {},
   "outputs": [],
   "source": [
    "knn = sklearn.metrics.roc_auc_score(data_scores['true'], data_scores['score_knn'])"
   ]
  },
  {
   "cell_type": "code",
   "execution_count": 75,
   "metadata": {},
   "outputs": [],
   "source": [
    "tree = sklearn.metrics.roc_auc_score(data_scores['true'], data_scores['score_tree'])"
   ]
  },
  {
   "cell_type": "code",
   "execution_count": 76,
   "metadata": {},
   "outputs": [
    {
     "data": {
      "text/plain": [
       "0.719187675070028"
      ]
     },
     "execution_count": 76,
     "metadata": {},
     "output_type": "execute_result"
    }
   ],
   "source": [
    "max(logit, svm, knn, tree)"
   ]
  },
  {
   "cell_type": "code",
   "execution_count": 77,
   "metadata": {},
   "outputs": [
    {
     "data": {
      "text/plain": [
       "0.719187675070028"
      ]
     },
     "execution_count": 77,
     "metadata": {},
     "output_type": "execute_result"
    }
   ],
   "source": [
    "logit"
   ]
  },
  {
   "cell_type": "code",
   "execution_count": 91,
   "metadata": {},
   "outputs": [],
   "source": [
    "precision, recall, thresholds = sklearn.metrics.precision_recall_curve(data_scores['true'], data_scores['score_logreg'])"
   ]
  },
  {
   "cell_type": "code",
   "execution_count": 79,
   "metadata": {},
   "outputs": [],
   "source": [
    "# Посчитайте площадь под ROC-кривой для каждого классификатора. \n",
    "# Какой классификатор имеет наибольшее значение метрики AUC-ROC (укажите название столбца)? \n",
    "# Воспользуйтесь функцией sklearn.metrics.roc_auc_score.\n",
    "# Какой классификатор достигает наибольшей точности (Precision) при полноте (Recall) не менее 70% ?"
   ]
  },
  {
   "cell_type": "code",
   "execution_count": 92,
   "metadata": {},
   "outputs": [
    {
     "data": {
      "text/plain": [
       "array([1.        , 0.98979592, 0.97959184, 0.97959184, 0.97959184,\n",
       "       0.96938776, 0.96938776, 0.95918367, 0.95918367, 0.95918367,\n",
       "       0.95918367, 0.94897959, 0.93877551, 0.93877551, 0.93877551,\n",
       "       0.93877551, 0.93877551, 0.93877551, 0.93877551, 0.93877551,\n",
       "       0.93877551, 0.93877551, 0.93877551, 0.93877551, 0.93877551,\n",
       "       0.93877551, 0.93877551, 0.92857143, 0.92857143, 0.92857143,\n",
       "       0.92857143, 0.92857143, 0.92857143, 0.91836735, 0.91836735,\n",
       "       0.90816327, 0.90816327, 0.90816327, 0.90816327, 0.89795918,\n",
       "       0.89795918, 0.89795918, 0.8877551 , 0.8877551 , 0.8877551 ,\n",
       "       0.87755102, 0.87755102, 0.86734694, 0.86734694, 0.86734694,\n",
       "       0.85714286, 0.85714286, 0.84693878, 0.84693878, 0.84693878,\n",
       "       0.84693878, 0.83673469, 0.83673469, 0.83673469, 0.82653061,\n",
       "       0.82653061, 0.82653061, 0.82653061, 0.81632653, 0.81632653,\n",
       "       0.81632653, 0.80612245, 0.79591837, 0.79591837, 0.79591837,\n",
       "       0.79591837, 0.78571429, 0.78571429, 0.78571429, 0.78571429,\n",
       "       0.7755102 , 0.76530612, 0.76530612, 0.76530612, 0.75510204,\n",
       "       0.74489796, 0.73469388, 0.73469388, 0.7244898 , 0.71428571,\n",
       "       0.70408163, 0.69387755, 0.68367347, 0.68367347, 0.68367347,\n",
       "       0.67346939, 0.67346939, 0.67346939, 0.66326531, 0.66326531,\n",
       "       0.65306122, 0.64285714, 0.63265306, 0.63265306, 0.63265306,\n",
       "       0.62244898, 0.62244898, 0.6122449 , 0.6122449 , 0.6122449 ,\n",
       "       0.6122449 , 0.60204082, 0.60204082, 0.59183673, 0.58163265,\n",
       "       0.58163265, 0.58163265, 0.58163265, 0.58163265, 0.58163265,\n",
       "       0.58163265, 0.58163265, 0.57142857, 0.57142857, 0.57142857,\n",
       "       0.57142857, 0.56122449, 0.55102041, 0.55102041, 0.54081633,\n",
       "       0.53061224, 0.52040816, 0.52040816, 0.51020408, 0.51020408,\n",
       "       0.5       , 0.48979592, 0.48979592, 0.47959184, 0.47959184,\n",
       "       0.47959184, 0.46938776, 0.45918367, 0.45918367, 0.44897959,\n",
       "       0.43877551, 0.42857143, 0.41836735, 0.40816327, 0.40816327,\n",
       "       0.39795918, 0.3877551 , 0.3877551 , 0.3877551 , 0.37755102,\n",
       "       0.36734694, 0.35714286, 0.35714286, 0.35714286, 0.35714286,\n",
       "       0.35714286, 0.35714286, 0.35714286, 0.34693878, 0.33673469,\n",
       "       0.32653061, 0.31632653, 0.30612245, 0.29591837, 0.28571429,\n",
       "       0.2755102 , 0.26530612, 0.25510204, 0.24489796, 0.23469388,\n",
       "       0.2244898 , 0.21428571, 0.20408163, 0.19387755, 0.18367347,\n",
       "       0.17346939, 0.16326531, 0.15306122, 0.15306122, 0.14285714,\n",
       "       0.13265306, 0.12244898, 0.12244898, 0.1122449 , 0.10204082,\n",
       "       0.10204082, 0.09183673, 0.08163265, 0.07142857, 0.06122449,\n",
       "       0.05102041, 0.04081633, 0.03061224, 0.03061224, 0.03061224,\n",
       "       0.02040816, 0.01020408, 0.        ])"
      ]
     },
     "execution_count": 92,
     "metadata": {},
     "output_type": "execute_result"
    }
   ],
   "source": [
    "recall"
   ]
  },
  {
   "cell_type": "code",
   "execution_count": 93,
   "metadata": {},
   "outputs": [
    {
     "name": "stdout",
     "output_type": "stream",
     "text": [
      "[0, 1, 2, 3, 4, 5, 6, 7, 8, 9, 10, 11, 12, 13, 14, 15, 16, 17, 18, 19, 20, 21, 22, 23, 24, 25, 26, 27, 28, 29, 30, 31, 32, 33, 34, 35, 36, 37, 38, 39, 40, 41, 42, 43, 44, 45, 46, 47, 48, 49, 50, 51, 52, 53, 54, 55, 56, 57, 58, 59, 60, 61, 62, 63, 64, 65, 66, 67, 68, 69, 70, 71, 72, 73, 74, 75, 76, 77, 78, 79, 80, 81, 82, 83, 84, 85]\n"
     ]
    }
   ],
   "source": [
    "arr = []\n",
    "for index, a in enumerate(recall):\n",
    "    if a>=0.7:\n",
    "        arr.append(index)\n",
    "print(arr)"
   ]
  },
  {
   "cell_type": "code",
   "execution_count": 95,
   "metadata": {},
   "outputs": [
    {
     "data": {
      "text/plain": [
       "array([0.49746193, 0.49489796, 0.49230769, 0.49484536, 0.49740933,\n",
       "       0.49479167, 0.4973822 , 0.49473684, 0.4973545 , 0.5       ,\n",
       "       0.5026738 , 0.5       , 0.4972973 , 0.5       , 0.50273224,\n",
       "       0.50549451, 0.50828729, 0.51111111, 0.51396648, 0.51685393,\n",
       "       0.51977401, 0.52272727, 0.52571429, 0.52873563, 0.53179191,\n",
       "       0.53488372, 0.5380117 , 0.53529412, 0.53846154, 0.54166667,\n",
       "       0.54491018, 0.54819277, 0.55151515, 0.54878049, 0.55214724,\n",
       "       0.54938272, 0.55279503, 0.55625   , 0.55974843, 0.55696203,\n",
       "       0.56050955, 0.56410256, 0.56129032, 0.56493506, 0.56862745,\n",
       "       0.56578947, 0.56953642, 0.56666667, 0.5704698 , 0.57432432,\n",
       "       0.57142857, 0.57534247, 0.57241379, 0.57638889, 0.58041958,\n",
       "       0.58450704, 0.58156028, 0.58571429, 0.58992806, 0.58695652,\n",
       "       0.59124088, 0.59558824, 0.6       , 0.59701493, 0.60150376,\n",
       "       0.60606061, 0.60305344, 0.6       , 0.60465116, 0.609375  ,\n",
       "       0.61417323, 0.61111111, 0.616     , 0.62096774, 0.62601626,\n",
       "       0.62295082, 0.61983471, 0.625     , 0.6302521 , 0.62711864,\n",
       "       0.62393162, 0.62068966, 0.62608696, 0.62280702, 0.61946903])"
      ]
     },
     "execution_count": 95,
     "metadata": {},
     "output_type": "execute_result"
    }
   ],
   "source": [
    "precision[0:85]"
   ]
  },
  {
   "cell_type": "code",
   "execution_count": 82,
   "metadata": {},
   "outputs": [
    {
     "data": {
      "text/plain": [
       "0.6302521008403361"
      ]
     },
     "execution_count": 82,
     "metadata": {},
     "output_type": "execute_result"
    }
   ],
   "source": [
    "max_ = max(precision[0:85])\n",
    "max_"
   ]
  },
  {
   "cell_type": "code",
   "execution_count": 114,
   "metadata": {},
   "outputs": [],
   "source": [
    "def max_precision(i):\n",
    "    precision, recall, thresholds = sklearn.metrics.precision_recall_curve(data_scores['true'], i)\n",
    "    arr = []\n",
    "    for index, a in enumerate(recall):\n",
    "        if a>=0.7:\n",
    "            arr.append(index)\n",
    "    arr_min = min(arr)\n",
    "    arr_max = max(arr)\n",
    "    max_ = max(precision[arr_min:arr_max])\n",
    "    return(max_)"
   ]
  },
  {
   "cell_type": "code",
   "execution_count": 115,
   "metadata": {},
   "outputs": [
    {
     "name": "stdout",
     "output_type": "stream",
     "text": [
      "0.6302521008403361\n"
     ]
    }
   ],
   "source": [
    "print(max_precision(data_scores['score_logreg']))"
   ]
  },
  {
   "cell_type": "code",
   "execution_count": 116,
   "metadata": {},
   "outputs": [
    {
     "name": "stdout",
     "output_type": "stream",
     "text": [
      "0.6228070175438597\n"
     ]
    }
   ],
   "source": [
    "print(max_precision(data_scores['score_svm']))"
   ]
  },
  {
   "cell_type": "code",
   "execution_count": 117,
   "metadata": {},
   "outputs": [
    {
     "name": "stdout",
     "output_type": "stream",
     "text": [
      "0.6065573770491803\n"
     ]
    }
   ],
   "source": [
    "print(max_precision(data_scores['score_knn']))"
   ]
  },
  {
   "cell_type": "code",
   "execution_count": 118,
   "metadata": {},
   "outputs": [
    {
     "name": "stdout",
     "output_type": "stream",
     "text": [
      "0.5984848484848485\n"
     ]
    }
   ],
   "source": [
    "print(max_precision(data_scores['score_tree']))"
   ]
  },
  {
   "cell_type": "code",
   "execution_count": 120,
   "metadata": {},
   "outputs": [],
   "source": [
    "precision, recall, thresholds = sklearn.metrics.precision_recall_curve(data_scores['true'], data_scores['score_tree'])"
   ]
  },
  {
   "cell_type": "code",
   "execution_count": 124,
   "metadata": {},
   "outputs": [
    {
     "data": {
      "text/plain": [
       "array([1.        , 0.93877551, 0.91836735, 0.82653061, 0.80612245,\n",
       "       0.74489796, 0.66326531, 0.60204082, 0.56122449, 0.42857143,\n",
       "       0.28571429, 0.18367347, 0.        ])"
      ]
     },
     "execution_count": 124,
     "metadata": {},
     "output_type": "execute_result"
    }
   ],
   "source": [
    "recall"
   ]
  },
  {
   "cell_type": "code",
   "execution_count": 125,
   "metadata": {},
   "outputs": [
    {
     "name": "stdout",
     "output_type": "stream",
     "text": [
      "0\n",
      "1\n",
      "2\n",
      "3\n",
      "4\n",
      "5\n"
     ]
    }
   ],
   "source": [
    "for i, a in enumerate(recall):\n",
    "    if a>=0.7:\n",
    "        print(i)"
   ]
  },
  {
   "cell_type": "code",
   "execution_count": 127,
   "metadata": {},
   "outputs": [
    {
     "data": {
      "text/plain": [
       "0.5984848484848485"
      ]
     },
     "execution_count": 127,
     "metadata": {},
     "output_type": "execute_result"
    }
   ],
   "source": [
    "max(precision[0:5])"
   ]
  },
  {
   "cell_type": "code",
   "execution_count": null,
   "metadata": {},
   "outputs": [],
   "source": []
  }
 ],
 "metadata": {
  "kernelspec": {
   "display_name": "Python 3",
   "language": "python",
   "name": "python3"
  },
  "language_info": {
   "codemirror_mode": {
    "name": "ipython",
    "version": 3
   },
   "file_extension": ".py",
   "mimetype": "text/x-python",
   "name": "python",
   "nbconvert_exporter": "python",
   "pygments_lexer": "ipython3",
   "version": "3.7.3"
  }
 },
 "nbformat": 4,
 "nbformat_minor": 2
}
