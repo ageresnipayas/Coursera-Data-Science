{
 "cells": [
  {
   "cell_type": "code",
   "execution_count": 224,
   "metadata": {},
   "outputs": [],
   "source": [
    "# Загрузите данные из файла data-logistic.csv. Это двумерная выборка, целевая переменная на \n",
    "# которой принимает значения -1 или 1."
   ]
  },
  {
   "cell_type": "code",
   "execution_count": 225,
   "metadata": {},
   "outputs": [],
   "source": [
    "columns = ['Result', 'Feature1', 'Feature2']\n",
    "import pandas as pd\n",
    "data = pd.read_csv('data-logistic.csv', sep=',', names = columns)"
   ]
  },
  {
   "cell_type": "code",
   "execution_count": 226,
   "metadata": {
    "scrolled": true
   },
   "outputs": [
    {
     "data": {
      "text/html": [
       "<div>\n",
       "<style scoped>\n",
       "    .dataframe tbody tr th:only-of-type {\n",
       "        vertical-align: middle;\n",
       "    }\n",
       "\n",
       "    .dataframe tbody tr th {\n",
       "        vertical-align: top;\n",
       "    }\n",
       "\n",
       "    .dataframe thead th {\n",
       "        text-align: right;\n",
       "    }\n",
       "</style>\n",
       "<table border=\"1\" class=\"dataframe\">\n",
       "  <thead>\n",
       "    <tr style=\"text-align: right;\">\n",
       "      <th></th>\n",
       "      <th>Result</th>\n",
       "      <th>Feature1</th>\n",
       "      <th>Feature2</th>\n",
       "    </tr>\n",
       "  </thead>\n",
       "  <tbody>\n",
       "    <tr>\n",
       "      <th>0</th>\n",
       "      <td>-1</td>\n",
       "      <td>-0.663827</td>\n",
       "      <td>-0.138526</td>\n",
       "    </tr>\n",
       "    <tr>\n",
       "      <th>1</th>\n",
       "      <td>1</td>\n",
       "      <td>1.994596</td>\n",
       "      <td>2.468025</td>\n",
       "    </tr>\n",
       "    <tr>\n",
       "      <th>2</th>\n",
       "      <td>-1</td>\n",
       "      <td>-1.247395</td>\n",
       "      <td>0.749425</td>\n",
       "    </tr>\n",
       "    <tr>\n",
       "      <th>3</th>\n",
       "      <td>1</td>\n",
       "      <td>2.309374</td>\n",
       "      <td>1.899836</td>\n",
       "    </tr>\n",
       "    <tr>\n",
       "      <th>4</th>\n",
       "      <td>1</td>\n",
       "      <td>0.849143</td>\n",
       "      <td>2.407750</td>\n",
       "    </tr>\n",
       "  </tbody>\n",
       "</table>\n",
       "</div>"
      ],
      "text/plain": [
       "   Result  Feature1  Feature2\n",
       "0      -1 -0.663827 -0.138526\n",
       "1       1  1.994596  2.468025\n",
       "2      -1 -1.247395  0.749425\n",
       "3       1  2.309374  1.899836\n",
       "4       1  0.849143  2.407750"
      ]
     },
     "execution_count": 226,
     "metadata": {},
     "output_type": "execute_result"
    }
   ],
   "source": [
    "data.head(5)"
   ]
  },
  {
   "cell_type": "code",
   "execution_count": 227,
   "metadata": {},
   "outputs": [],
   "source": [
    "y = data['Result']\n",
    "X = data.drop('Result', axis = 1)"
   ]
  },
  {
   "cell_type": "code",
   "execution_count": 228,
   "metadata": {},
   "outputs": [],
   "source": [
    "# Реализуйте градиентный спуск для обычной и L2-регуляризованной (с коэффициентом регуляризации 10)\n",
    "# логистической регрессии. Используйте длину шага k=0.1. \n",
    "# В качестве начального приближения используйте вектор (0, 0).\n",
    "# Запустите градиентный спуск и доведите до сходимости (евклидово расстояние между векторами \n",
    "# весов на соседних итерациях должно быть не больше 1e-5). Рекомендуется ограничить сверху число итераций \n",
    "# десятью тысячами."
   ]
  },
  {
   "cell_type": "code",
   "execution_count": 229,
   "metadata": {},
   "outputs": [
    {
     "data": {
      "text/plain": [
       "SGDClassifier(alpha=0.01, average=False, class_weight=None,\n",
       "       early_stopping=False, epsilon=0.1, eta0=0.0, fit_intercept=True,\n",
       "       l1_ratio=0.15, learning_rate='optimal', loss='hinge',\n",
       "       max_iter=10000, n_iter=None, n_iter_no_change=5, n_jobs=None,\n",
       "       penalty='l2', power_t=0.5, random_state=241, shuffle=True,\n",
       "       tol=1e-05, validation_fraction=0.1, verbose=0, warm_start=False)"
      ]
     },
     "execution_count": 229,
     "metadata": {},
     "output_type": "execute_result"
    }
   ],
   "source": [
    "import numpy as np\n",
    "from sklearn import linear_model\n",
    "clf = linear_model.SGDClassifier(alpha=0.01,max_iter=10000, tol=1e-5, shuffle=True, random_state=241)\n",
    "clf.fit(X, y)"
   ]
  },
  {
   "cell_type": "code",
   "execution_count": 230,
   "metadata": {},
   "outputs": [],
   "source": [
    "exclude_regular = clf.predict(X)"
   ]
  },
  {
   "cell_type": "code",
   "execution_count": 231,
   "metadata": {},
   "outputs": [
    {
     "name": "stdout",
     "output_type": "stream",
     "text": [
      "0.881\n"
     ]
    }
   ],
   "source": [
    "from sklearn.metrics import roc_auc_score\n",
    "ex_reg = roc_auc_score(y, exclude_regular)\n",
    "print(np.round(ex_reg,decimals = 3))"
   ]
  },
  {
   "cell_type": "code",
   "execution_count": 232,
   "metadata": {},
   "outputs": [
    {
     "data": {
      "text/plain": [
       "SGDClassifier(alpha=0.01, average=False, class_weight=None,\n",
       "       early_stopping=False, epsilon=0.1, eta0=0.0, fit_intercept=True,\n",
       "       l1_ratio=1, learning_rate='optimal', loss='hinge', max_iter=10000,\n",
       "       n_iter=None, n_iter_no_change=5, n_jobs=None, penalty='l2',\n",
       "       power_t=0.5, random_state=241, shuffle=True, tol=1e-05,\n",
       "       validation_fraction=0.1, verbose=0, warm_start=False)"
      ]
     },
     "execution_count": 232,
     "metadata": {},
     "output_type": "execute_result"
    }
   ],
   "source": [
    "clf = linear_model.SGDClassifier(alpha=0.01, l1_ratio = 1, max_iter=10000, tol=1e-5, shuffle=True, random_state=241)\n",
    "clf.fit(X, y)"
   ]
  },
  {
   "cell_type": "code",
   "execution_count": 233,
   "metadata": {},
   "outputs": [
    {
     "name": "stdout",
     "output_type": "stream",
     "text": [
      "0.881\n"
     ]
    }
   ],
   "source": [
    "include_regular = clf.predict(X)\n",
    "ex_reg = roc_auc_score(y, include_regular)\n",
    "print(np.round(ex_reg,decimals = 3))"
   ]
  },
  {
   "cell_type": "markdown",
   "metadata": {},
   "source": [
    " # Решение задачи другими"
   ]
  },
  {
   "cell_type": "code",
   "execution_count": 255,
   "metadata": {},
   "outputs": [],
   "source": [
    "import math\n",
    "import sklearn"
   ]
  },
  {
   "cell_type": "code",
   "execution_count": 261,
   "metadata": {},
   "outputs": [
    {
     "name": "stderr",
     "output_type": "stream",
     "text": [
      "C:\\Users\\ivan1\\Anaconda3\\lib\\site-packages\\ipykernel_launcher.py:2: FutureWarning: Method .as_matrix will be removed in a future version. Use .values instead.\n",
      "  \n",
      "C:\\Users\\ivan1\\Anaconda3\\lib\\site-packages\\ipykernel_launcher.py:3: FutureWarning: Method .as_matrix will be removed in a future version. Use .values instead.\n",
      "  This is separate from the ipykernel package so we can avoid doing imports until\n"
     ]
    }
   ],
   "source": [
    "rawData = pd.read_csv('data-logistic.csv', header = None)\n",
    "X = rawData[[1,2]].as_matrix()\n",
    "y = rawData[[0]].as_matrix()"
   ]
  },
  {
   "cell_type": "code",
   "execution_count": 262,
   "metadata": {},
   "outputs": [],
   "source": [
    "def sigmoid(x):\n",
    "    return 1.0/(1 + math.exp(-x))"
   ]
  },
  {
   "cell_type": "code",
   "execution_count": 263,
   "metadata": {},
   "outputs": [],
   "source": [
    "def distance(a,b):\n",
    "    return np.sqrt(np.square(a[0] - a[1]) + np.square(b[0] - b[1]))"
   ]
  },
  {
   "cell_type": "code",
   "execution_count": 271,
   "metadata": {},
   "outputs": [],
   "source": [
    "def log_regression(X, y, k, w, C, epsilon, max_iter):\n",
    "    w1, w2 = w\n",
    "    for i in range(max_iter):\n",
    "        w1new = w1 + k * np.mean(y * X[:,0] * (1 - (1./(1+np.exp(-y*(w1*X[:,0] + w2 * X[:,1])))))) - k*C*w1\n",
    "        w2new = w2 + k * np.mean(y * X[:,1] * (1 - (1./(1+np.exp(-y*(w1*X[:,1] + w2 * X[:,1])))))) - k*C*w2\n",
    "        if distance((w1new, w2new),(w1,w2)) < epsilon:\n",
    "            break\n",
    "        w1, w2 = w1new, w2new\n",
    "        \n",
    "    predictions = []\n",
    "    for i in range(len(X)):\n",
    "        t1 = w1*X[i,0] + w2*X[i,1]\n",
    "        s = sigmoid(t1)\n",
    "        predictions.append(s)\n",
    "    return(predictions) "
   ]
  },
  {
   "cell_type": "code",
   "execution_count": 272,
   "metadata": {},
   "outputs": [],
   "source": [
    "p0 = log_regression(X, y, 0.1, [0.0, 0.0],0, 0.00001, 10000)\n",
    "p1 = log_regression(X, y, 0.1, [0.0, 0.0],10, 0.00001, 10000)"
   ]
  },
  {
   "cell_type": "code",
   "execution_count": 273,
   "metadata": {},
   "outputs": [],
   "source": [
    "a = sklearn.metrics.roc_auc_score(y, p0)\n",
    "b = sklearn.metrics.roc_auc_score(y, p1)"
   ]
  },
  {
   "cell_type": "code",
   "execution_count": 274,
   "metadata": {},
   "outputs": [
    {
     "name": "stdout",
     "output_type": "stream",
     "text": [
      "0.681\n",
      "0.937\n"
     ]
    }
   ],
   "source": [
    "print(np.round(a,decimals = 3))\n",
    "print(np.round(b,decimals = 3))"
   ]
  },
  {
   "cell_type": "code",
   "execution_count": null,
   "metadata": {},
   "outputs": [],
   "source": []
  }
 ],
 "metadata": {
  "kernelspec": {
   "display_name": "Python 3",
   "language": "python",
   "name": "python3"
  },
  "language_info": {
   "codemirror_mode": {
    "name": "ipython",
    "version": 3
   },
   "file_extension": ".py",
   "mimetype": "text/x-python",
   "name": "python",
   "nbconvert_exporter": "python",
   "pygments_lexer": "ipython3",
   "version": "3.7.3"
  }
 },
 "nbformat": 4,
 "nbformat_minor": 2
}
